{
  "nbformat": 4,
  "nbformat_minor": 0,
  "metadata": {
    "colab": {
      "name": "Wine_Quality_1LayerNN_Pytorch.ipynb",
      "provenance": []
    },
    "kernelspec": {
      "name": "python3",
      "display_name": "Python 3"
    },
    "language_info": {
      "name": "python"
    }
  },
  "cells": [
    {
      "cell_type": "code",
      "execution_count": 16,
      "metadata": {
        "id": "HmlV6w_LkQAt"
      },
      "outputs": [],
      "source": [
        "import torch \n",
        "import torch.nn as nn"
      ]
    },
    {
      "cell_type": "code",
      "source": [
        "! pip3 install torch_optimizer"
      ],
      "metadata": {
        "colab": {
          "base_uri": "https://localhost:8080/"
        },
        "id": "mYKLsSFvk2Fq",
        "outputId": "6824b620-372a-4f55-c82d-177c7bcc2931"
      },
      "execution_count": 13,
      "outputs": [
        {
          "output_type": "stream",
          "name": "stdout",
          "text": [
            "Collecting torch_optimizer\n",
            "  Downloading torch_optimizer-0.3.0-py3-none-any.whl (61 kB)\n",
            "\u001b[?25l\r\u001b[K     |█████▎                          | 10 kB 19.7 MB/s eta 0:00:01\r\u001b[K     |██████████▋                     | 20 kB 10.8 MB/s eta 0:00:01\r\u001b[K     |███████████████▉                | 30 kB 8.8 MB/s eta 0:00:01\r\u001b[K     |█████████████████████▏          | 40 kB 8.1 MB/s eta 0:00:01\r\u001b[K     |██████████████████████████▌     | 51 kB 5.0 MB/s eta 0:00:01\r\u001b[K     |███████████████████████████████▊| 61 kB 5.2 MB/s eta 0:00:01\r\u001b[K     |████████████████████████████████| 61 kB 298 kB/s \n",
            "\u001b[?25hRequirement already satisfied: torch>=1.5.0 in /usr/local/lib/python3.7/dist-packages (from torch_optimizer) (1.11.0+cu113)\n",
            "Collecting pytorch-ranger>=0.1.1\n",
            "  Downloading pytorch_ranger-0.1.1-py3-none-any.whl (14 kB)\n",
            "Requirement already satisfied: typing-extensions in /usr/local/lib/python3.7/dist-packages (from torch>=1.5.0->torch_optimizer) (4.2.0)\n",
            "Installing collected packages: pytorch-ranger, torch-optimizer\n",
            "Successfully installed pytorch-ranger-0.1.1 torch-optimizer-0.3.0\n"
          ]
        }
      ]
    },
    {
      "cell_type": "code",
      "source": [
        "import csv\n",
        "import numpy as np\n",
        "wine_path = \"/content/winequality-white.csv\"\n",
        "wineq_numpy = np.loadtxt(wine_path, dtype=np.float32, delimiter=\";\",\n",
        "skiprows=1)\n",
        "wineq_numpy\n"
      ],
      "metadata": {
        "colab": {
          "base_uri": "https://localhost:8080/"
        },
        "id": "EIU56Kewpsdv",
        "outputId": "3cb8056d-1623-402b-c274-fc386803e159"
      },
      "execution_count": 31,
      "outputs": [
        {
          "output_type": "execute_result",
          "data": {
            "text/plain": [
              "array([[ 7.  ,  0.27,  0.36, ...,  0.45,  8.8 ,  6.  ],\n",
              "       [ 6.3 ,  0.3 ,  0.34, ...,  0.49,  9.5 ,  6.  ],\n",
              "       [ 8.1 ,  0.28,  0.4 , ...,  0.44, 10.1 ,  6.  ],\n",
              "       ...,\n",
              "       [ 6.5 ,  0.24,  0.19, ...,  0.46,  9.4 ,  6.  ],\n",
              "       [ 5.5 ,  0.29,  0.3 , ...,  0.38, 12.8 ,  7.  ],\n",
              "       [ 6.  ,  0.21,  0.38, ...,  0.32, 11.8 ,  6.  ]], dtype=float32)"
            ]
          },
          "metadata": {},
          "execution_count": 31
        }
      ]
    },
    {
      "cell_type": "code",
      "source": [
        "wineq = torch.from_numpy(wineq_numpy)\n"
      ],
      "metadata": {
        "id": "yrKcSPo3p_7F"
      },
      "execution_count": 81,
      "outputs": []
    },
    {
      "cell_type": "code",
      "source": [
        "data = wineq[:, :-1]\n",
        "data, data.shape"
      ],
      "metadata": {
        "colab": {
          "base_uri": "https://localhost:8080/"
        },
        "id": "-H-0YHxfp8p4",
        "outputId": "68db8512-cb03-4071-e1c8-86c068e48f32"
      },
      "execution_count": 100,
      "outputs": [
        {
          "output_type": "execute_result",
          "data": {
            "text/plain": [
              "(tensor([[ 7.0000,  0.2700,  0.3600,  ...,  3.0000,  0.4500,  8.8000],\n",
              "         [ 6.3000,  0.3000,  0.3400,  ...,  3.3000,  0.4900,  9.5000],\n",
              "         [ 8.1000,  0.2800,  0.4000,  ...,  3.2600,  0.4400, 10.1000],\n",
              "         ...,\n",
              "         [ 6.5000,  0.2400,  0.1900,  ...,  2.9900,  0.4600,  9.4000],\n",
              "         [ 5.5000,  0.2900,  0.3000,  ...,  3.3400,  0.3800, 12.8000],\n",
              "         [ 6.0000,  0.2100,  0.3800,  ...,  3.2600,  0.3200, 11.8000]]),\n",
              " torch.Size([4898, 11]))"
            ]
          },
          "metadata": {},
          "execution_count": 100
        }
      ]
    },
    {
      "cell_type": "code",
      "source": [
        "target = wineq[:, -1]\n",
        "target, target.shape"
      ],
      "metadata": {
        "colab": {
          "base_uri": "https://localhost:8080/"
        },
        "id": "kJfpo3pCqD-X",
        "outputId": "8e4ea81f-6509-4998-849e-ab2b2403451d"
      },
      "execution_count": 101,
      "outputs": [
        {
          "output_type": "execute_result",
          "data": {
            "text/plain": [
              "(tensor([6., 6., 6.,  ..., 6., 7., 6.]), torch.Size([4898]))"
            ]
          },
          "metadata": {},
          "execution_count": 101
        }
      ]
    },
    {
      "cell_type": "code",
      "source": [
        "target = wineq[:, -1]\n",
        "target"
      ],
      "metadata": {
        "colab": {
          "base_uri": "https://localhost:8080/"
        },
        "id": "Xv2VS0JpqJD6",
        "outputId": "802f2915-1367-4935-cb9c-1dc6ea3cf5e3"
      },
      "execution_count": 102,
      "outputs": [
        {
          "output_type": "execute_result",
          "data": {
            "text/plain": [
              "tensor([6., 6., 6.,  ..., 6., 7., 6.])"
            ]
          },
          "metadata": {},
          "execution_count": 102
        }
      ]
    },
    {
      "cell_type": "code",
      "source": [
        "target_unsqueezed = target.unsqueeze(1)\n",
        "target_unsqueezed"
      ],
      "metadata": {
        "colab": {
          "base_uri": "https://localhost:8080/"
        },
        "id": "0a0-Y_w8s1gy",
        "outputId": "da2463e0-ae2b-4683-b8d8-e407a76d51bd"
      },
      "execution_count": 103,
      "outputs": [
        {
          "output_type": "execute_result",
          "data": {
            "text/plain": [
              "tensor([[6.],\n",
              "        [6.],\n",
              "        [6.],\n",
              "        ...,\n",
              "        [6.],\n",
              "        [7.],\n",
              "        [6.]])"
            ]
          },
          "metadata": {},
          "execution_count": 103
        }
      ]
    },
    {
      "cell_type": "markdown",
      "source": [
        "T_c = target\n",
        "T_u = data "
      ],
      "metadata": {
        "id": "L3R8yenss2CO"
      }
    },
    {
      "cell_type": "code",
      "source": [
        "#splitting the dataset\n",
        "n_samples = data.shape[0]\n",
        "n_val = int(0.2 * n_samples)"
      ],
      "metadata": {
        "id": "07mdB9aLtNCK"
      },
      "execution_count": 104,
      "outputs": []
    },
    {
      "cell_type": "code",
      "source": [
        "shuffled_indices = torch.randperm(n_samples)\n",
        "train_indices = shuffled_indices[:-n_val]\n",
        "val_indices = shuffled_indices[-n_val:]\n"
      ],
      "metadata": {
        "id": "6LyMUUlctQYk"
      },
      "execution_count": 105,
      "outputs": []
    },
    {
      "cell_type": "code",
      "source": [
        "#train_indices, val_indices"
      ],
      "metadata": {
        "id": "3cbbOOT9tTdS"
      },
      "execution_count": 118,
      "outputs": []
    },
    {
      "cell_type": "code",
      "source": [
        "#build training and test set \n",
        "train_t_u = data[train_indices]\n",
        "train_t_c = target_unsqueezed[train_indices]\n",
        "val_t_u = data[val_indices]\n",
        "val_t_c = target_unsqueezed[val_indices]\n",
        "\n",
        "#normalize \n",
        "train_t_un = 0.1 * train_t_u\n",
        "val_t_un = 0.1 * val_t_u\n"
      ],
      "metadata": {
        "id": "u1ZMVqyTta4G"
      },
      "execution_count": 119,
      "outputs": []
    },
    {
      "cell_type": "code",
      "source": [
        "print(train_t_u.shape)\n",
        "print(train_t_c.shape)\n",
        "print(val_t_u.shape)\n",
        "print(val_t_c.shape)"
      ],
      "metadata": {
        "colab": {
          "base_uri": "https://localhost:8080/"
        },
        "id": "V7K0WG1puzs_",
        "outputId": "ed8397db-6f55-4ab8-feb3-05f3029ed8bc"
      },
      "execution_count": 120,
      "outputs": [
        {
          "output_type": "stream",
          "name": "stdout",
          "text": [
            "torch.Size([3919, 11])\n",
            "torch.Size([3919, 1])\n",
            "torch.Size([979, 11])\n",
            "torch.Size([979, 1])\n"
          ]
        }
      ]
    },
    {
      "cell_type": "code",
      "source": [
        "#print(val_t_c)"
      ],
      "metadata": {
        "id": "aHx7QlGLuh_J"
      },
      "execution_count": 121,
      "outputs": []
    },
    {
      "cell_type": "code",
      "source": [
        "import torch_optimizer as optim"
      ],
      "metadata": {
        "id": "POt6hqXtkqTa"
      },
      "execution_count": 122,
      "outputs": []
    },
    {
      "cell_type": "code",
      "source": [
        "seq_model = nn.Sequential(\n",
        "    nn.Linear(11, 25),\n",
        "    nn.Tanh(),\n",
        "    nn.Linear(25, 10))\n",
        "seq_model"
      ],
      "metadata": {
        "colab": {
          "base_uri": "https://localhost:8080/"
        },
        "id": "tBtr3fdekRTd",
        "outputId": "e921dae7-980f-4415-840d-7d94c52c698e"
      },
      "execution_count": 123,
      "outputs": [
        {
          "output_type": "execute_result",
          "data": {
            "text/plain": [
              "Sequential(\n",
              "  (0): Linear(in_features=11, out_features=25, bias=True)\n",
              "  (1): Tanh()\n",
              "  (2): Linear(in_features=25, out_features=10, bias=True)\n",
              ")"
            ]
          },
          "metadata": {},
          "execution_count": 123
        }
      ]
    },
    {
      "cell_type": "code",
      "source": [
        "#!pip install torch-optimizer"
      ],
      "metadata": {
        "id": "Ymn26rtRoUZ6"
      },
      "execution_count": 124,
      "outputs": []
    },
    {
      "cell_type": "code",
      "source": [
        "import torch_optimizer as optim"
      ],
      "metadata": {
        "id": "nX5Vs3idoYTe"
      },
      "execution_count": 125,
      "outputs": []
    },
    {
      "cell_type": "code",
      "source": [
        "optimizer = optim.DiffGrad(seq_model.parameters(), lr=0.001)"
      ],
      "metadata": {
        "id": "GgiiCxsXobnz"
      },
      "execution_count": 126,
      "outputs": []
    },
    {
      "cell_type": "code",
      "source": [
        "def training_loop(n_epochs, optimizer, model, loss_fn, t_u_train, t_u_val,\n",
        "              t_c_train, t_c_val):\n",
        "  for epoch in range(1, n_epochs + 1):\n",
        "      t_p_train = model(t_u_train)\n",
        "      loss_train = loss_fn(t_p_train, t_c_train)\n",
        "      t_p_val = model(t_u_val)\n",
        "\n",
        "\n",
        "      loss_val = loss_fn(t_p_val, t_c_val)\n",
        "      optimizer.zero_grad()\n",
        "      loss_train.backward()\n",
        "      optimizer.step()\n",
        "\n",
        "      if epoch == 1 or epoch % 1000 == 0:\n",
        "              print(f\"Epoch {epoch}, Training loss {loss_train.item():.4f},\"\n",
        "                    f\" Validation loss {loss_val.item():.4f}\")\n"
      ],
      "metadata": {
        "id": "AbpGuzpwo_j2"
      },
      "execution_count": 127,
      "outputs": []
    },
    {
      "cell_type": "code",
      "source": [
        "training_loop(\n",
        "            n_epochs = 7000,\n",
        "            optimizer = optimizer,\n",
        "            model = seq_model,\n",
        "            loss_fn = nn.MSELoss(),\n",
        "            t_u_train = train_t_u,\n",
        "            t_u_val = val_t_u,\n",
        "            t_c_train = train_t_c,\n",
        "            t_c_val = val_t_c)\n",
        "print('output', seq_model(val_t_u))\n",
        "#print('answer', val_t_c)\n",
        "#print('hidden', seq_model.hidden_linear.weight.grad)"
      ],
      "metadata": {
        "colab": {
          "base_uri": "https://localhost:8080/"
        },
        "id": "u_TwlA7Cogyq",
        "outputId": "a7920228-6f43-40fa-f941-9348743e08a4"
      },
      "execution_count": 129,
      "outputs": [
        {
          "output_type": "stream",
          "name": "stderr",
          "text": [
            "/usr/local/lib/python3.7/dist-packages/torch/nn/modules/loss.py:529: UserWarning: Using a target size (torch.Size([3919, 1])) that is different to the input size (torch.Size([3919, 10])). This will likely lead to incorrect results due to broadcasting. Please ensure they have the same size.\n",
            "  return F.mse_loss(input, target, reduction=self.reduction)\n",
            "/usr/local/lib/python3.7/dist-packages/torch/nn/modules/loss.py:529: UserWarning: Using a target size (torch.Size([979, 1])) that is different to the input size (torch.Size([979, 10])). This will likely lead to incorrect results due to broadcasting. Please ensure they have the same size.\n",
            "  return F.mse_loss(input, target, reduction=self.reduction)\n"
          ]
        },
        {
          "output_type": "stream",
          "name": "stdout",
          "text": [
            "Epoch 1, Training loss 0.5140, Validation loss 0.5582\n",
            "Epoch 1000, Training loss 0.5090, Validation loss 0.5569\n",
            "Epoch 2000, Training loss 0.5050, Validation loss 0.5553\n",
            "Epoch 3000, Training loss 0.5010, Validation loss 0.5524\n",
            "Epoch 4000, Training loss 0.4977, Validation loss 0.5506\n",
            "Epoch 5000, Training loss 0.4958, Validation loss 0.5503\n",
            "Epoch 6000, Training loss 0.4933, Validation loss 0.5484\n",
            "Epoch 7000, Training loss 0.4912, Validation loss 0.5459\n",
            "output tensor([[5.7309, 5.7331, 5.7320,  ..., 5.7317, 5.7316, 5.7322],\n",
            "        [5.4720, 5.4718, 5.4720,  ..., 5.4716, 5.4714, 5.4718],\n",
            "        [6.6261, 6.6247, 6.6254,  ..., 6.6258, 6.6260, 6.6255],\n",
            "        ...,\n",
            "        [5.1404, 5.1404, 5.1407,  ..., 5.1401, 5.1401, 5.1400],\n",
            "        [5.3644, 5.3655, 5.3652,  ..., 5.3652, 5.3654, 5.3650],\n",
            "        [5.8916, 5.8912, 5.8913,  ..., 5.8914, 5.8914, 5.8914]],\n",
            "       grad_fn=<AddmmBackward0>)\n"
          ]
        }
      ]
    },
    {
      "cell_type": "code",
      "source": [
        ""
      ],
      "metadata": {
        "id": "YTUg2TmwpNcq"
      },
      "execution_count": 128,
      "outputs": []
    }
  ]
}