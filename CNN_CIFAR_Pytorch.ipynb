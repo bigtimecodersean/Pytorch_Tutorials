{
  "nbformat": 4,
  "nbformat_minor": 0,
  "metadata": {
    "colab": {
      "name": "CNN_CIFAR_Pytorch.ipynb",
      "provenance": []
    },
    "kernelspec": {
      "name": "python3",
      "display_name": "Python 3"
    },
    "language_info": {
      "name": "python"
    },
    "accelerator": "GPU",
    "widgets": {
      "application/vnd.jupyter.widget-state+json": {
        "cd6eb4dd1692452ba0c72f6cfbd0f2e6": {
          "model_module": "@jupyter-widgets/controls",
          "model_name": "HBoxModel",
          "model_module_version": "1.5.0",
          "state": {
            "_dom_classes": [],
            "_model_module": "@jupyter-widgets/controls",
            "_model_module_version": "1.5.0",
            "_model_name": "HBoxModel",
            "_view_count": null,
            "_view_module": "@jupyter-widgets/controls",
            "_view_module_version": "1.5.0",
            "_view_name": "HBoxView",
            "box_style": "",
            "children": [
              "IPY_MODEL_bb9a303f5cb24b81b548596d20f882b6",
              "IPY_MODEL_8a9ecadae68c4b04b6da51527e217a2c",
              "IPY_MODEL_0cd66acda42a405c9965dd02758843e1"
            ],
            "layout": "IPY_MODEL_40012b2833d64acc801d5ca0dd14a12d"
          }
        },
        "bb9a303f5cb24b81b548596d20f882b6": {
          "model_module": "@jupyter-widgets/controls",
          "model_name": "HTMLModel",
          "model_module_version": "1.5.0",
          "state": {
            "_dom_classes": [],
            "_model_module": "@jupyter-widgets/controls",
            "_model_module_version": "1.5.0",
            "_model_name": "HTMLModel",
            "_view_count": null,
            "_view_module": "@jupyter-widgets/controls",
            "_view_module_version": "1.5.0",
            "_view_name": "HTMLView",
            "description": "",
            "description_tooltip": null,
            "layout": "IPY_MODEL_fe348db5db53436389c6c21cd8102a7e",
            "placeholder": "​",
            "style": "IPY_MODEL_695ee3fc0a844c54a868cefbd9589e84",
            "value": ""
          }
        },
        "8a9ecadae68c4b04b6da51527e217a2c": {
          "model_module": "@jupyter-widgets/controls",
          "model_name": "FloatProgressModel",
          "model_module_version": "1.5.0",
          "state": {
            "_dom_classes": [],
            "_model_module": "@jupyter-widgets/controls",
            "_model_module_version": "1.5.0",
            "_model_name": "FloatProgressModel",
            "_view_count": null,
            "_view_module": "@jupyter-widgets/controls",
            "_view_module_version": "1.5.0",
            "_view_name": "ProgressView",
            "bar_style": "success",
            "description": "",
            "description_tooltip": null,
            "layout": "IPY_MODEL_dab6153f9f074dec93fee9809bd9d17a",
            "max": 170498071,
            "min": 0,
            "orientation": "horizontal",
            "style": "IPY_MODEL_3977f78d8fa442d5bbd7fb36c3d30fe5",
            "value": 170498071
          }
        },
        "0cd66acda42a405c9965dd02758843e1": {
          "model_module": "@jupyter-widgets/controls",
          "model_name": "HTMLModel",
          "model_module_version": "1.5.0",
          "state": {
            "_dom_classes": [],
            "_model_module": "@jupyter-widgets/controls",
            "_model_module_version": "1.5.0",
            "_model_name": "HTMLModel",
            "_view_count": null,
            "_view_module": "@jupyter-widgets/controls",
            "_view_module_version": "1.5.0",
            "_view_name": "HTMLView",
            "description": "",
            "description_tooltip": null,
            "layout": "IPY_MODEL_94b499861b314edcacdee616de122819",
            "placeholder": "​",
            "style": "IPY_MODEL_0155a1505bfc4e9a870aa9f6ab30afbd",
            "value": " 170499072/? [00:05&lt;00:00, 57715789.55it/s]"
          }
        },
        "40012b2833d64acc801d5ca0dd14a12d": {
          "model_module": "@jupyter-widgets/base",
          "model_name": "LayoutModel",
          "model_module_version": "1.2.0",
          "state": {
            "_model_module": "@jupyter-widgets/base",
            "_model_module_version": "1.2.0",
            "_model_name": "LayoutModel",
            "_view_count": null,
            "_view_module": "@jupyter-widgets/base",
            "_view_module_version": "1.2.0",
            "_view_name": "LayoutView",
            "align_content": null,
            "align_items": null,
            "align_self": null,
            "border": null,
            "bottom": null,
            "display": null,
            "flex": null,
            "flex_flow": null,
            "grid_area": null,
            "grid_auto_columns": null,
            "grid_auto_flow": null,
            "grid_auto_rows": null,
            "grid_column": null,
            "grid_gap": null,
            "grid_row": null,
            "grid_template_areas": null,
            "grid_template_columns": null,
            "grid_template_rows": null,
            "height": null,
            "justify_content": null,
            "justify_items": null,
            "left": null,
            "margin": null,
            "max_height": null,
            "max_width": null,
            "min_height": null,
            "min_width": null,
            "object_fit": null,
            "object_position": null,
            "order": null,
            "overflow": null,
            "overflow_x": null,
            "overflow_y": null,
            "padding": null,
            "right": null,
            "top": null,
            "visibility": null,
            "width": null
          }
        },
        "fe348db5db53436389c6c21cd8102a7e": {
          "model_module": "@jupyter-widgets/base",
          "model_name": "LayoutModel",
          "model_module_version": "1.2.0",
          "state": {
            "_model_module": "@jupyter-widgets/base",
            "_model_module_version": "1.2.0",
            "_model_name": "LayoutModel",
            "_view_count": null,
            "_view_module": "@jupyter-widgets/base",
            "_view_module_version": "1.2.0",
            "_view_name": "LayoutView",
            "align_content": null,
            "align_items": null,
            "align_self": null,
            "border": null,
            "bottom": null,
            "display": null,
            "flex": null,
            "flex_flow": null,
            "grid_area": null,
            "grid_auto_columns": null,
            "grid_auto_flow": null,
            "grid_auto_rows": null,
            "grid_column": null,
            "grid_gap": null,
            "grid_row": null,
            "grid_template_areas": null,
            "grid_template_columns": null,
            "grid_template_rows": null,
            "height": null,
            "justify_content": null,
            "justify_items": null,
            "left": null,
            "margin": null,
            "max_height": null,
            "max_width": null,
            "min_height": null,
            "min_width": null,
            "object_fit": null,
            "object_position": null,
            "order": null,
            "overflow": null,
            "overflow_x": null,
            "overflow_y": null,
            "padding": null,
            "right": null,
            "top": null,
            "visibility": null,
            "width": null
          }
        },
        "695ee3fc0a844c54a868cefbd9589e84": {
          "model_module": "@jupyter-widgets/controls",
          "model_name": "DescriptionStyleModel",
          "model_module_version": "1.5.0",
          "state": {
            "_model_module": "@jupyter-widgets/controls",
            "_model_module_version": "1.5.0",
            "_model_name": "DescriptionStyleModel",
            "_view_count": null,
            "_view_module": "@jupyter-widgets/base",
            "_view_module_version": "1.2.0",
            "_view_name": "StyleView",
            "description_width": ""
          }
        },
        "dab6153f9f074dec93fee9809bd9d17a": {
          "model_module": "@jupyter-widgets/base",
          "model_name": "LayoutModel",
          "model_module_version": "1.2.0",
          "state": {
            "_model_module": "@jupyter-widgets/base",
            "_model_module_version": "1.2.0",
            "_model_name": "LayoutModel",
            "_view_count": null,
            "_view_module": "@jupyter-widgets/base",
            "_view_module_version": "1.2.0",
            "_view_name": "LayoutView",
            "align_content": null,
            "align_items": null,
            "align_self": null,
            "border": null,
            "bottom": null,
            "display": null,
            "flex": null,
            "flex_flow": null,
            "grid_area": null,
            "grid_auto_columns": null,
            "grid_auto_flow": null,
            "grid_auto_rows": null,
            "grid_column": null,
            "grid_gap": null,
            "grid_row": null,
            "grid_template_areas": null,
            "grid_template_columns": null,
            "grid_template_rows": null,
            "height": null,
            "justify_content": null,
            "justify_items": null,
            "left": null,
            "margin": null,
            "max_height": null,
            "max_width": null,
            "min_height": null,
            "min_width": null,
            "object_fit": null,
            "object_position": null,
            "order": null,
            "overflow": null,
            "overflow_x": null,
            "overflow_y": null,
            "padding": null,
            "right": null,
            "top": null,
            "visibility": null,
            "width": null
          }
        },
        "3977f78d8fa442d5bbd7fb36c3d30fe5": {
          "model_module": "@jupyter-widgets/controls",
          "model_name": "ProgressStyleModel",
          "model_module_version": "1.5.0",
          "state": {
            "_model_module": "@jupyter-widgets/controls",
            "_model_module_version": "1.5.0",
            "_model_name": "ProgressStyleModel",
            "_view_count": null,
            "_view_module": "@jupyter-widgets/base",
            "_view_module_version": "1.2.0",
            "_view_name": "StyleView",
            "bar_color": null,
            "description_width": ""
          }
        },
        "94b499861b314edcacdee616de122819": {
          "model_module": "@jupyter-widgets/base",
          "model_name": "LayoutModel",
          "model_module_version": "1.2.0",
          "state": {
            "_model_module": "@jupyter-widgets/base",
            "_model_module_version": "1.2.0",
            "_model_name": "LayoutModel",
            "_view_count": null,
            "_view_module": "@jupyter-widgets/base",
            "_view_module_version": "1.2.0",
            "_view_name": "LayoutView",
            "align_content": null,
            "align_items": null,
            "align_self": null,
            "border": null,
            "bottom": null,
            "display": null,
            "flex": null,
            "flex_flow": null,
            "grid_area": null,
            "grid_auto_columns": null,
            "grid_auto_flow": null,
            "grid_auto_rows": null,
            "grid_column": null,
            "grid_gap": null,
            "grid_row": null,
            "grid_template_areas": null,
            "grid_template_columns": null,
            "grid_template_rows": null,
            "height": null,
            "justify_content": null,
            "justify_items": null,
            "left": null,
            "margin": null,
            "max_height": null,
            "max_width": null,
            "min_height": null,
            "min_width": null,
            "object_fit": null,
            "object_position": null,
            "order": null,
            "overflow": null,
            "overflow_x": null,
            "overflow_y": null,
            "padding": null,
            "right": null,
            "top": null,
            "visibility": null,
            "width": null
          }
        },
        "0155a1505bfc4e9a870aa9f6ab30afbd": {
          "model_module": "@jupyter-widgets/controls",
          "model_name": "DescriptionStyleModel",
          "model_module_version": "1.5.0",
          "state": {
            "_model_module": "@jupyter-widgets/controls",
            "_model_module_version": "1.5.0",
            "_model_name": "DescriptionStyleModel",
            "_view_count": null,
            "_view_module": "@jupyter-widgets/base",
            "_view_module_version": "1.2.0",
            "_view_name": "StyleView",
            "description_width": ""
          }
        }
      }
    }
  },
  "cells": [
    {
      "cell_type": "code",
      "execution_count": 1,
      "metadata": {
        "id": "vv27FwwSKMMg"
      },
      "outputs": [],
      "source": [
        "import torch \n",
        "import torch.nn as nn\n",
        "import torch.nn.functional as F\n",
        "import torchvision\n",
        "import torchvision.transforms as transforms\n",
        "import matplotlib.pyplot as plot\n",
        "import numpy as np"
      ]
    },
    {
      "cell_type": "code",
      "source": [
        "#Device configuration \n",
        "device = torch.device('cuda' if torch.cuda.is_available() else 'cpu')\n"
      ],
      "metadata": {
        "id": "MW6UV3EAXLPk"
      },
      "execution_count": 2,
      "outputs": []
    },
    {
      "cell_type": "code",
      "source": [
        "#hyper parameters\n",
        "num_epochs = 5\n",
        "batch_size = 4\n",
        "learning_rate = .001\n"
      ],
      "metadata": {
        "id": "7BKSx2pcXSOF"
      },
      "execution_count": 3,
      "outputs": []
    },
    {
      "cell_type": "code",
      "source": [
        "#dataset has PILIImage images of range [0,1]\n",
        "#Transform to Tensors of normalized range [-1,1]\n",
        "transform = transforms.Compose(\n",
        "    [transforms.ToTensor(), \n",
        "     transforms.Normalize((.5, .5, .5), (.5, .5, .5))])\n"
      ],
      "metadata": {
        "id": "vieJQj2IXWB9"
      },
      "execution_count": 4,
      "outputs": []
    },
    {
      "cell_type": "code",
      "source": [
        "train_dataset = torchvision.datasets.CIFAR10(root = './data', train=True, download = True, transform = transform)\n",
        "\n",
        "test_dataset = torchvision.datasets.CIFAR10(root = './data', train=False, download = True, transform = transform)\n",
        "\n",
        "train_loader = torch.utils.data.DataLoader(train_dataset, batch_size = batch_size, shuffle = True) \n",
        "\n",
        "test_loader = torch.utils.data.DataLoader(test_dataset, batch_size = batch_size, shuffle = True) \n"
      ],
      "metadata": {
        "colab": {
          "base_uri": "https://localhost:8080/",
          "height": 104,
          "referenced_widgets": [
            "cd6eb4dd1692452ba0c72f6cfbd0f2e6",
            "bb9a303f5cb24b81b548596d20f882b6",
            "8a9ecadae68c4b04b6da51527e217a2c",
            "0cd66acda42a405c9965dd02758843e1",
            "40012b2833d64acc801d5ca0dd14a12d",
            "fe348db5db53436389c6c21cd8102a7e",
            "695ee3fc0a844c54a868cefbd9589e84",
            "dab6153f9f074dec93fee9809bd9d17a",
            "3977f78d8fa442d5bbd7fb36c3d30fe5",
            "94b499861b314edcacdee616de122819",
            "0155a1505bfc4e9a870aa9f6ab30afbd"
          ]
        },
        "id": "qUTjlqV2XpjM",
        "outputId": "ed1160f7-62da-4d6f-ab76-b440b3d785bb"
      },
      "execution_count": 5,
      "outputs": [
        {
          "output_type": "stream",
          "name": "stdout",
          "text": [
            "Downloading https://www.cs.toronto.edu/~kriz/cifar-10-python.tar.gz to ./data/cifar-10-python.tar.gz\n"
          ]
        },
        {
          "output_type": "display_data",
          "data": {
            "text/plain": [
              "  0%|          | 0/170498071 [00:00<?, ?it/s]"
            ],
            "application/vnd.jupyter.widget-view+json": {
              "version_major": 2,
              "version_minor": 0,
              "model_id": "cd6eb4dd1692452ba0c72f6cfbd0f2e6"
            }
          },
          "metadata": {}
        },
        {
          "output_type": "stream",
          "name": "stdout",
          "text": [
            "Extracting ./data/cifar-10-python.tar.gz to ./data\n",
            "Files already downloaded and verified\n"
          ]
        }
      ]
    },
    {
      "cell_type": "code",
      "source": [
        "classes = ('plane', 'car', 'bird', 'cat', 'deer', 'dog', 'frog', 'horse', 'ship', 'truck')"
      ],
      "metadata": {
        "id": "ayquLiE_YNil"
      },
      "execution_count": 6,
      "outputs": []
    },
    {
      "cell_type": "code",
      "source": [
        "#implement conv net \n",
        "class ConvNet(nn.Module):\n",
        "  def __init__(self):\n",
        "    super(ConvNet, self).__init__()\n",
        "    self.conv1 = nn.Conv2d(3,6, 5 ) #3 First conv layer: input color channel, 6 output color channel, 5 kernel size\n",
        "    self.pool = nn.MaxPool2d(2,2) #2x2 kernel size, and stride of 2 \n",
        "    self.conv2 = nn.Conv2d(6, 16, 5) #second conv layer; input channel must be = to the output channel of the previous convolutional layer \n",
        "    self.fc1 = nn.Linear(16*5*5, 120) #fully connected layer; try 120 output\n",
        "    self.fc2 = nn.Linear(120, 84) #fully connected layer; 120 input features; 84 output features \n",
        "    self.fc3 = nn.Linear(84, 10) #fully connected layer; 10 outputs because of 10 classes\n",
        "\n",
        "    #16*5*5 & 10 are fixed... the rest can be experimented with \n",
        "    #16*5*5 comes from flatteniign the 3D tensor that is output from the convolutional layers, to a 1D layer for the fully connected linear layers\n",
        "        #16x5x5 are the dimensions of the output of conv2\n",
        "  def forward(self, x):\n",
        "    x = self.pool(F.relu(self.conv1(x))) #first conv and pooling layer \n",
        "    x = self.pool(F.relu(self.conv2(x))) #second conv and pooling layer \n",
        "    x = x.view(-1, 16*5*5) #flatten\n",
        "    x = F.relu(self.fc1(x)) #first fully connected layer + activation function\n",
        "    x = F.relu(self.fc2(x)) #second fully connected layer + activation function\n",
        "    x = self.fc3(x)  #3rd fully connected layer, no activation function\n",
        "    return x\n",
        "\n",
        "    #no softmax function because this is included in our criterion defined below \n",
        "  \n",
        "\n",
        "\n",
        "\n"
      ],
      "metadata": {
        "id": "-CMc-LwaYVah"
      },
      "execution_count": 7,
      "outputs": []
    },
    {
      "cell_type": "code",
      "source": [
        "model = ConvNet().to(device)"
      ],
      "metadata": {
        "id": "1LtmaCxjYitL"
      },
      "execution_count": 8,
      "outputs": []
    },
    {
      "cell_type": "code",
      "source": [
        "criterion = nn.CrossEntropyLoss()\n",
        "optimizer = torch.optim.SGD(model.parameters(), lr = learning_rate)"
      ],
      "metadata": {
        "id": "dKmQVWu4YwGm"
      },
      "execution_count": 9,
      "outputs": []
    },
    {
      "cell_type": "code",
      "source": [
        "#Training\n",
        "n_total_steps = len(train_loader)\n",
        "for epoch in range(num_epochs):\n",
        "  for i, (images, labels) in enumerate(train_loader):\n",
        "    #original shape: [4,3,32,32] = 4,3,1024\n",
        "    #input_layer: 3 input channels, 6 output channels, 5 kernel size\n",
        "    images = images.to(device)\n",
        "    labels = labels.to(device)\n",
        "\n",
        "    #Forward Pass\n",
        "    outputs = model(images)\n",
        "    loss = criterion(outputs, labels)\n",
        "\n",
        "    #Backward and optimize\n",
        "    optimizer.zero_grad()\n",
        "    loss.backward()\n",
        "    optimizer.step()\n",
        "\n",
        "    if(i+1) % 2000 == 0:\n",
        "      print(f'Epoch [{epoch+1}/{num_epochs}], Step [{i+1}/{n_total_steps}], Loss: {loss.item():.4f}')\n",
        "\n",
        "  print('Finished training')\n",
        "\n"
      ],
      "metadata": {
        "colab": {
          "base_uri": "https://localhost:8080/"
        },
        "id": "OqNoFh3YYwNo",
        "outputId": "7d45ef25-bf36-4ff3-c3da-0095fc025634"
      },
      "execution_count": 10,
      "outputs": [
        {
          "output_type": "stream",
          "name": "stdout",
          "text": [
            "Epoch [1/5], Step [2000/12500], Loss: 2.2885\n",
            "Epoch [1/5], Step [4000/12500], Loss: 2.3178\n",
            "Epoch [1/5], Step [6000/12500], Loss: 2.3055\n",
            "Epoch [1/5], Step [8000/12500], Loss: 2.2907\n",
            "Epoch [1/5], Step [10000/12500], Loss: 2.2522\n",
            "Epoch [1/5], Step [12000/12500], Loss: 2.0611\n",
            "Finished training\n",
            "Epoch [2/5], Step [2000/12500], Loss: 2.0287\n",
            "Epoch [2/5], Step [4000/12500], Loss: 2.0607\n",
            "Epoch [2/5], Step [6000/12500], Loss: 2.0552\n",
            "Epoch [2/5], Step [8000/12500], Loss: 1.4333\n",
            "Epoch [2/5], Step [10000/12500], Loss: 1.2274\n",
            "Epoch [2/5], Step [12000/12500], Loss: 1.8577\n",
            "Finished training\n",
            "Epoch [3/5], Step [2000/12500], Loss: 1.8288\n",
            "Epoch [3/5], Step [4000/12500], Loss: 1.2117\n",
            "Epoch [3/5], Step [6000/12500], Loss: 1.4803\n",
            "Epoch [3/5], Step [8000/12500], Loss: 1.4389\n",
            "Epoch [3/5], Step [10000/12500], Loss: 2.2393\n",
            "Epoch [3/5], Step [12000/12500], Loss: 0.6184\n",
            "Finished training\n",
            "Epoch [4/5], Step [2000/12500], Loss: 1.5972\n",
            "Epoch [4/5], Step [4000/12500], Loss: 1.8143\n",
            "Epoch [4/5], Step [6000/12500], Loss: 1.6802\n",
            "Epoch [4/5], Step [8000/12500], Loss: 1.6895\n",
            "Epoch [4/5], Step [10000/12500], Loss: 1.4906\n",
            "Epoch [4/5], Step [12000/12500], Loss: 0.7916\n",
            "Finished training\n",
            "Epoch [5/5], Step [2000/12500], Loss: 1.5130\n",
            "Epoch [5/5], Step [4000/12500], Loss: 1.2658\n",
            "Epoch [5/5], Step [6000/12500], Loss: 1.1094\n",
            "Epoch [5/5], Step [8000/12500], Loss: 1.0284\n",
            "Epoch [5/5], Step [10000/12500], Loss: 1.0182\n",
            "Epoch [5/5], Step [12000/12500], Loss: 1.1845\n",
            "Finished training\n"
          ]
        }
      ]
    },
    {
      "cell_type": "code",
      "source": [
        "#Testing\n",
        "with torch.no_grad():\n",
        "  n_correct = 0 \n",
        "  n_samples = 0\n",
        "  n_class_correct = [0 for i in range(10)]\n",
        "  n_class_samples = [0 for i in range(10)]\n",
        "  for images, labels in test_loader:\n",
        "    images = images.to(device)\n",
        "    labels = labels.to(device)\n",
        "    outputs = model(images)\n",
        "\n",
        "    _, predicted = torch.max(outputs,1)\n",
        "    n_samples += labels.size(0)\n",
        "    n_correct += (predicted == labels).sum().item()\n",
        "\n",
        "    for i in range(batch_size):\n",
        "      label = labels[i]\n",
        "      pred = predicted[i]\n",
        "\n",
        "    if (label == pred):\n",
        "      n_class_correct[label] += 1\n",
        "    n_class_samples[label] +=1\n",
        "\n",
        "  acc = 100.0*n_correct/n_samples\n",
        "  print(f'Accuracy of the network: {acc} %')\n",
        "\n",
        "  for i in range(10):\n",
        "    acc = 100.0 * n_class_correct[i]/n_class_samples[i]\n",
        "    print(f'Accuracy of {classes[i]}: {acc} %')\n",
        "\n",
        "\n"
      ],
      "metadata": {
        "colab": {
          "base_uri": "https://localhost:8080/"
        },
        "id": "cNtlX9rVYwP8",
        "outputId": "bd81b014-9530-427d-fe1a-5aa39f344ec3"
      },
      "execution_count": 11,
      "outputs": [
        {
          "output_type": "stream",
          "name": "stdout",
          "text": [
            "Accuracy of the network: 48.48 %\n",
            "Accuracy of plane: 51.79282868525896 %\n",
            "Accuracy of car: 50.202429149797574 %\n",
            "Accuracy of bird: 43.89312977099237 %\n",
            "Accuracy of cat: 38.429752066115704 %\n",
            "Accuracy of deer: 15.859030837004406 %\n",
            "Accuracy of dog: 47.65342960288809 %\n",
            "Accuracy of frog: 50.19455252918288 %\n",
            "Accuracy of horse: 54.66101694915254 %\n",
            "Accuracy of ship: 61.2 %\n",
            "Accuracy of truck: 64.54183266932272 %\n"
          ]
        }
      ]
    },
    {
      "cell_type": "markdown",
      "source": [
        "Poor performance !!! (~50%)... Re-try with more epochs"
      ],
      "metadata": {
        "id": "rhP9om05jv8n"
      }
    }
  ]
}