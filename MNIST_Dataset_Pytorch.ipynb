{
  "nbformat": 4,
  "nbformat_minor": 0,
  "metadata": {
    "colab": {
      "name": "MNIST_Dataset_Pytorch.ipynb",
      "provenance": []
    },
    "kernelspec": {
      "name": "python3",
      "display_name": "Python 3"
    },
    "language_info": {
      "name": "python"
    }
  },
  "cells": [
    {
      "cell_type": "code",
      "source": [
        "import torch\n",
        "import torchvision\n",
        "import torch.nn as nn\n",
        "import torchvision.transforms as transforms\n",
        "from torch.utils.data import Dataset, DataLoader\n",
        "import matplotlib.pyplot as plt"
      ],
      "metadata": {
        "id": "DeVmj2_NcBYa"
      },
      "execution_count": 39,
      "outputs": []
    },
    {
      "cell_type": "code",
      "execution_count": 40,
      "metadata": {
        "id": "8SlgR_2Tb-vr"
      },
      "outputs": [],
      "source": [
        "#device config\n",
        "device = torch.device('cuda' if torch.cuda.is_available() else 'cpu')"
      ]
    },
    {
      "cell_type": "code",
      "source": [
        "#hyperparameters\n",
        "input_size = 784 #28x28\n",
        "hidden_size = 100\n",
        "num_classes = 10\n",
        "num_epochs = 2\n",
        "batch_size = 100\n",
        "learning_rate = .001\n",
        "\n",
        "\n",
        "\n"
      ],
      "metadata": {
        "id": "OIsEOL30g2tb"
      },
      "execution_count": 41,
      "outputs": []
    },
    {
      "cell_type": "code",
      "source": [
        "train_dataset = torchvision.datasets.MNIST(root='./data', train=True, transform = transforms.ToTensor(), download = True)\n",
        "test_dataset = torchvision.datasets.MNIST(root='./data', train=False, transform = transforms.ToTensor(), download = True)\n",
        "\n",
        "train_loader = torch.utils.data.DataLoader(dataset = train_dataset, batch_size = batch_size, shuffle = True)\n",
        "test_loader = torch.utils.data.DataLoader(dataset = test_dataset, batch_size = batch_size, shuffle = False)\n",
        "\n"
      ],
      "metadata": {
        "id": "tCc37Ui3FuXs"
      },
      "execution_count": 42,
      "outputs": []
    },
    {
      "cell_type": "code",
      "source": [
        "examples = iter(train_loader)\n",
        "samples, labels = examples.next()\n",
        "print(samples.shape, labels.shape)\n"
      ],
      "metadata": {
        "colab": {
          "base_uri": "https://localhost:8080/"
        },
        "id": "JOMKG3mviNzZ",
        "outputId": "dff08d3d-fd95-4b0e-f67b-3e8640426140"
      },
      "execution_count": 34,
      "outputs": [
        {
          "output_type": "stream",
          "name": "stdout",
          "text": [
            "torch.Size([100, 1, 28, 28]) torch.Size([100])\n"
          ]
        }
      ]
    },
    {
      "cell_type": "code",
      "source": [
        "for i in range(6):\n",
        "  plt.subplot(2,3, i+1)\n",
        "  plt.imshow(samples[i][0], cmap = 'gray')\n",
        "  plt.show()"
      ],
      "metadata": {
        "colab": {
          "base_uri": "https://localhost:8080/",
          "height": 809
        },
        "id": "3hnV7z3qGts8",
        "outputId": "483de9e4-26cd-4a4a-f493-1863bf7c261a"
      },
      "execution_count": 43,
      "outputs": [
        {
          "output_type": "display_data",
          "data": {
            "text/plain": [
              "<Figure size 432x288 with 1 Axes>"
            ],
            "image/png": "[encoded data removed]"
          },
          "metadata": {
            "needs_background": "light"
          }
        },
        {
          "output_type": "display_data",
          "data": {
            "text/plain": [
              "<Figure size 432x288 with 1 Axes>"
            ],
            "image/png": "[encoded data removed]"
          },
          "metadata": {
            "needs_background": "light"
          }
        },
        {
          "output_type": "display_data",
          "data": {
            "text/plain": [
              "<Figure size 432x288 with 1 Axes>"
            ],
            "image/png": "[encoded data removed]"
          },
          "metadata": {
            "needs_background": "light"
          }
        },
        {
          "output_type": "display_data",
          "data": {
            "text/plain": [
              "<Figure size 432x288 with 1 Axes>"
            ],
            "image/png": "[encoded data removed]"
          },
          "metadata": {
            "needs_background": "light"
          }
        },
        {
          "output_type": "display_data",
          "data": {
            "text/plain": [
              "<Figure size 432x288 with 1 Axes>"
            ],
            "image/png": "[encoded data removed]"
          },
          "metadata": {
            "needs_background": "light"
          }
        },
        {
          "output_type": "display_data",
          "data": {
            "text/plain": [
              "<Figure size 432x288 with 1 Axes>"
            ],
            "image/png": "[encoded data removed]"
          },
          "metadata": {
            "needs_background": "light"
          }
        }
      ]
    },
    {
      "cell_type": "markdown",
      "source": [
        "Now we want to classify these, so we will create a fully connected NN with one hidden layer "
      ],
      "metadata": {
        "id": "Cf07ofitcBOS"
      }
    },
    {
      "cell_type": "code",
      "source": [
        "#Defining our model \n",
        "class NeuralNet(nn.Module):\n",
        "  def __init__(self, input_size, hidden_size, num_classes):\n",
        "    super(NeuralNet, self).__init__()\n",
        "    self.l1 = nn.Linear(input_size, hidden_size)\n",
        "    self.relu = nn.ReLU()\n",
        "    self.l2 = nn.Linear(hidden_size, num_classes)\n",
        "\n",
        "  def forward(self, x):\n",
        "    out = self.l1(x)\n",
        "    out = self.relu(out)\n",
        "    out = self.l2(out)\n",
        "    return out\n",
        "\n"
      ],
      "metadata": {
        "id": "GlICvGZZG-7h"
      },
      "execution_count": 56,
      "outputs": []
    },
    {
      "cell_type": "code",
      "source": [
        "model = NeuralNet(input_size, hidden_size, num_classes)"
      ],
      "metadata": {
        "id": "IqkhL90VHyLs"
      },
      "execution_count": 57,
      "outputs": []
    },
    {
      "cell_type": "code",
      "source": [
        "#loss and optimizer \n",
        "criterion = nn.CrossEntropyLoss()\n",
        "optimizer = torch.optim.Adam(model.parameters(), lr = learning_rate)"
      ],
      "metadata": {
        "id": "kbwYFNljIF3x"
      },
      "execution_count": 58,
      "outputs": []
    },
    {
      "cell_type": "code",
      "source": [
        "#training loop\n",
        "\n",
        "n_total_steps = len(train_loader)\n",
        "for epoch in range(num_epochs):\n",
        "  for i, (images, labels) in enumerate(train_loader):\n",
        "    #100, 784\n",
        "    #reshape images \n",
        "    images = images.reshape(-1,28*28).to(device) #push to GPU if possible\n",
        "    labels = labels.to(device)\n",
        "\n",
        "    #forwrad \n",
        "    outputs = model(images)\n",
        "    loss = criterion(outputs, labels)\n",
        "\n",
        "    #backwards\n",
        "    optimizer.zero_grad() #empty value sin gradient attribute\n",
        "    loss. backward() #will do backprop\n",
        "    optimizer.step() #will update the params\n",
        "\n",
        "    if (i+1)%100 == 0:\n",
        "      print(f'epoch {epoch+1} / {num_epochs}, step {i+1}/{n_total_steps}, loss = {loss.item():.4f}')\n"
      ],
      "metadata": {
        "colab": {
          "base_uri": "https://localhost:8080/"
        },
        "id": "H32kC04YIOf4",
        "outputId": "ab7f961e-f98b-47cc-b39d-406f317e31df"
      },
      "execution_count": 61,
      "outputs": [
        {
          "output_type": "stream",
          "name": "stdout",
          "text": [
            "epoch 1 / 2, step 100/600, loss = 0.4870\n",
            "epoch 1 / 2, step 200/600, loss = 0.3544\n",
            "epoch 1 / 2, step 300/600, loss = 0.2829\n",
            "epoch 1 / 2, step 400/600, loss = 0.1196\n",
            "epoch 1 / 2, step 500/600, loss = 0.3140\n",
            "epoch 1 / 2, step 600/600, loss = 0.1572\n",
            "epoch 2 / 2, step 100/600, loss = 0.3031\n",
            "epoch 2 / 2, step 200/600, loss = 0.1987\n",
            "epoch 2 / 2, step 300/600, loss = 0.2163\n",
            "epoch 2 / 2, step 400/600, loss = 0.1002\n",
            "epoch 2 / 2, step 500/600, loss = 0.1302\n",
            "epoch 2 / 2, step 600/600, loss = 0.1631\n"
          ]
        }
      ]
    },
    {
      "cell_type": "code",
      "source": [
        "#testing: \n",
        "\n",
        "with torch.no_grad():\n",
        "  n_correct = 0\n",
        "  n_samples = 0 \n",
        "  for images, labels in test_loader:\n",
        "    images = images.reshape(-1,28*28).to(device) #push to GPU if possible\n",
        "    labels = labels.to(device)\n",
        "    outputs = model(images)\n",
        "\n",
        "    #value, index\n",
        "    _, predictions = torch.max(outputs, 1)\n",
        "    n_samples += labels.shape[0] #gives the number of samples in the current batch -  should be 100\n",
        "    n_correct += (predictions == labels).sum().item()\n",
        "\n",
        "\n",
        "\n",
        "acc = 100.0*n_correct/n_samples \n",
        "\n",
        "print(f'accuracy = {acc}')\n",
        "\n",
        "\n"
      ],
      "metadata": {
        "colab": {
          "base_uri": "https://localhost:8080/"
        },
        "id": "mBVfaysDJ0ke",
        "outputId": "de5aa822-f9f4-4723-c676-d9aa212b3772"
      },
      "execution_count": 62,
      "outputs": [
        {
          "output_type": "stream",
          "name": "stdout",
          "text": [
            "accuracy = 95.63\n"
          ]
        }
      ]
    },
    {
      "cell_type": "markdown",
      "source": [
        "95% accuracy ! "
      ],
      "metadata": {
        "id": "WJljf2E1NLve"
      }
    }
  ]
}